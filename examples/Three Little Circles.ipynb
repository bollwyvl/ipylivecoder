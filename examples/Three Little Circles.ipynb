{
 "cells": [
  {
   "cell_type": "markdown",
   "metadata": {},
   "source": [
    "# Three Little Circles\n",
    "The \"Hello World\" (or [Maxwell's Equations](http://www.michaelnielsen.org/ddi/lisp-as-the-maxwells-equations-of-software/)) of d3, [Three Little Circles](http://bost.ocks.org/mike/circles/) introduces all of the main concepts in d3, which gives you a pretty good grounding in data visualization, JavaScript, and SVG. Let's try out some circles in livecoder.\n",
    "\n",
    "First, we need `Livecoder`, and `traitlets`, the Observer/Observable pattern used in building widgets."
   ]
  },
  {
   "cell_type": "code",
   "execution_count": 16,
   "metadata": {
    "collapsed": false
   },
   "outputs": [],
   "source": [
    "from livecoder.widgets import Livecoder\n",
    "from IPython.utils import traitlets as T"
   ]
  },
  {
   "cell_type": "markdown",
   "metadata": {},
   "source": [
    "`Livecoder` by itself doesn't do much. Let's add a traitlet for where we want to draw the circles (the `cx` attribute)."
   ]
  },
  {
   "cell_type": "code",
   "execution_count": 15,
   "metadata": {
    "collapsed": false
   },
   "outputs": [],
   "source": [
    "class ThreeCircles(Livecoder):\n",
    "    description = T.Unicode(\"three-circles\")\n",
    "    x = T.Tuple([1, 2, 3], sync=True)"
   ]
  },
  {
   "cell_type": "markdown",
   "metadata": {},
   "source": [
    "Notice the `sync` argument: this tells IPython that it should propagate changes to the front-end. No REST for the wicked?"
   ]
  },
  {
   "cell_type": "code",
   "execution_count": 17,
   "metadata": {
    "collapsed": false
   },
   "outputs": [],
   "source": [
    "circles = ThreeCircles()"
   ]
  },
  {
   "cell_type": "markdown",
   "metadata": {},
   "source": [
    "Almost there! To view our widget, we need to `display` it, which is the default behavior by just having the widget be the last line of a code cell."
   ]
  },
  {
   "cell_type": "code",
   "execution_count": 18,
   "metadata": {
    "collapsed": true
   },
   "outputs": [],
   "source": [
    "circles"
   ]
  }
 ],
 "metadata": {
  "kernelspec": {
   "display_name": "Python 3",
   "language": "python",
   "name": "python3"
  },
  "language_info": {
   "codemirror_mode": {
    "name": "ipython",
    "version": 3
   },
   "file_extension": ".py",
   "mimetype": "text/x-python",
   "name": "python",
   "nbconvert_exporter": "python",
   "pygments_lexer": "ipython3",
   "version": "3.4.2"
  },
  "livecoder": {
   "undefined": {
    "_active": {
     "html": true,
     "script": true,
     "style": true
    },
    "_html": "<!-- html -->\n<svg/>",
    "_script": "/* JS */\nvar circle = d3.select(\"svg\")\n  .selectAll(\"circle\")\n  .data(model.get(\"x\"));\n\ncircle.enter()\n  .append(\"circle\");\n\ncircle.transition()\n  .attr({\n    r: 7,\n    cx: function(d){\n      return d * 38;\n    },\n    cy: 10\n  });\n\ncircle.exit().remove();",
    "_style": "/* CSS */\nsvg {\n  width: 200px;\n  height: 100px;\n}\ncircle {\n  fill: crimson;\n}"
   }
  }
 },
 "nbformat": 4,
 "nbformat_minor": 0
}
