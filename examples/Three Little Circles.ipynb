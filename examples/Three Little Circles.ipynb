{
 "cells": [
  {
   "cell_type": "code",
   "execution_count": 8,
   "metadata": {
    "collapsed": false
   },
   "outputs": [],
   "source": [
    "from livecoder.widgets import Livecoder\n",
    "from IPython.utils import traitlets as T"
   ]
  },
  {
   "cell_type": "code",
   "execution_count": 2,
   "metadata": {
    "collapsed": false
   },
   "outputs": [],
   "source": [
    "class ThreeCircles(Livecoder):\n",
    "    description = T.Unicode(\"three-circles\")\n",
    "    x = T.Tuple([1, 2, 3], sync=True)"
   ]
  },
  {
   "cell_type": "code",
   "execution_count": 3,
   "metadata": {
    "collapsed": false
   },
   "outputs": [],
   "source": [
    "circles = ThreeCircles()\n",
    "circles"
   ]
  },
  {
   "cell_type": "code",
   "execution_count": 7,
   "metadata": {
    "collapsed": false
   },
   "outputs": [],
   "source": [
    "circles.x = [1, 2, 3, 4]"
   ]
  },
  {
   "cell_type": "code",
   "execution_count": null,
   "metadata": {
    "collapsed": true
   },
   "outputs": [],
   "source": []
  }
 ],
 "metadata": {
  "kernelspec": {
   "display_name": "Python 3",
   "language": "python",
   "name": "python3"
  },
  "language_info": {
   "codemirror_mode": {
    "name": "ipython",
    "version": 3
   },
   "file_extension": ".py",
   "mimetype": "text/x-python",
   "name": "python",
   "nbconvert_exporter": "python",
   "pygments_lexer": "ipython3",
   "version": "3.4.2"
  },
  "livecoder": {
   "undefined": {
    "_html": "<!-- html -->\n<svg/>",
    "_script": "/* JS */\n/* JS */\nvar circle = d3.select(\"svg\")\n  .selectAll(\"circle\")\n  .data(model.get(\"x\"));\n\ncircle.enter()\n  .append(\"circle\");\n\ncircle.transition()\n  .attr({\n    r: 7,\n    cx: function(d){\n      return d * 38;\n    },\n    cy: 10\n  });\n\ncircle.exit().remove();",
    "_style": "/* CSS */\nsvg {\n  width: 200px;\n  height: 100px;\n}\ncircle {\n  fill: crimson;\n}"
   }
  }
 },
 "nbformat": 4,
 "nbformat_minor": 0
}
